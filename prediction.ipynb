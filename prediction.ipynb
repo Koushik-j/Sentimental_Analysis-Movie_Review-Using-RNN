{
 "cells": [
  {
   "cell_type": "code",
   "execution_count": 1,
   "metadata": {},
   "outputs": [],
   "source": [
    "# Step 1: Import Libraries and Load the Model\n",
    "import numpy as np\n",
    "import tensorflow as tf\n",
    "from tensorflow.keras.datasets import imdb\n",
    "from tensorflow.keras.preprocessing import sequence\n",
    "from tensorflow.keras.models import load_model"
   ]
  },
  {
   "cell_type": "code",
   "execution_count": 2,
   "metadata": {},
   "outputs": [],
   "source": [
    "\n",
    "# Load the IMDB dataset word index\n",
    "word_index = imdb.get_word_index()\n",
    "reverse_word_index = {value: key for key, value in word_index.items()}"
   ]
  },
  {
   "cell_type": "code",
   "execution_count": 3,
   "metadata": {},
   "outputs": [
    {
     "name": "stderr",
     "output_type": "stream",
     "text": [
      "WARNING:absl:Compiled the loaded model, but the compiled metrics have yet to be built. `model.compile_metrics` will be empty until you train or evaluate the model.\n"
     ]
    },
    {
     "data": {
      "text/html": [
       "<pre style=\"white-space:pre;overflow-x:auto;line-height:normal;font-family:Menlo,'DejaVu Sans Mono',consolas,'Courier New',monospace\"><span style=\"font-weight: bold\">Model: \"sequential\"</span>\n",
       "</pre>\n"
      ],
      "text/plain": [
       "\u001b[1mModel: \"sequential\"\u001b[0m\n"
      ]
     },
     "metadata": {},
     "output_type": "display_data"
    },
    {
     "data": {
      "text/html": [
       "<pre style=\"white-space:pre;overflow-x:auto;line-height:normal;font-family:Menlo,'DejaVu Sans Mono',consolas,'Courier New',monospace\">┏━━━━━━━━━━━━━━━━━━━━━━━━━━━━━━━━━┳━━━━━━━━━━━━━━━━━━━━━━━━┳━━━━━━━━━━━━━━━┓\n",
       "┃<span style=\"font-weight: bold\"> Layer (type)                    </span>┃<span style=\"font-weight: bold\"> Output Shape           </span>┃<span style=\"font-weight: bold\">       Param # </span>┃\n",
       "┡━━━━━━━━━━━━━━━━━━━━━━━━━━━━━━━━━╇━━━━━━━━━━━━━━━━━━━━━━━━╇━━━━━━━━━━━━━━━┩\n",
       "│ embedding (<span style=\"color: #0087ff; text-decoration-color: #0087ff\">Embedding</span>)           │ (<span style=\"color: #00af00; text-decoration-color: #00af00\">32</span>, <span style=\"color: #00af00; text-decoration-color: #00af00\">500</span>, <span style=\"color: #00af00; text-decoration-color: #00af00\">128</span>)         │     <span style=\"color: #00af00; text-decoration-color: #00af00\">1,280,000</span> │\n",
       "├─────────────────────────────────┼────────────────────────┼───────────────┤\n",
       "│ simple_rnn (<span style=\"color: #0087ff; text-decoration-color: #0087ff\">SimpleRNN</span>)          │ (<span style=\"color: #00af00; text-decoration-color: #00af00\">32</span>, <span style=\"color: #00af00; text-decoration-color: #00af00\">128</span>)              │        <span style=\"color: #00af00; text-decoration-color: #00af00\">32,896</span> │\n",
       "├─────────────────────────────────┼────────────────────────┼───────────────┤\n",
       "│ dense (<span style=\"color: #0087ff; text-decoration-color: #0087ff\">Dense</span>)                   │ (<span style=\"color: #00af00; text-decoration-color: #00af00\">32</span>, <span style=\"color: #00af00; text-decoration-color: #00af00\">1</span>)                │           <span style=\"color: #00af00; text-decoration-color: #00af00\">129</span> │\n",
       "└─────────────────────────────────┴────────────────────────┴───────────────┘\n",
       "</pre>\n"
      ],
      "text/plain": [
       "┏━━━━━━━━━━━━━━━━━━━━━━━━━━━━━━━━━┳━━━━━━━━━━━━━━━━━━━━━━━━┳━━━━━━━━━━━━━━━┓\n",
       "┃\u001b[1m \u001b[0m\u001b[1mLayer (type)                   \u001b[0m\u001b[1m \u001b[0m┃\u001b[1m \u001b[0m\u001b[1mOutput Shape          \u001b[0m\u001b[1m \u001b[0m┃\u001b[1m \u001b[0m\u001b[1m      Param #\u001b[0m\u001b[1m \u001b[0m┃\n",
       "┡━━━━━━━━━━━━━━━━━━━━━━━━━━━━━━━━━╇━━━━━━━━━━━━━━━━━━━━━━━━╇━━━━━━━━━━━━━━━┩\n",
       "│ embedding (\u001b[38;5;33mEmbedding\u001b[0m)           │ (\u001b[38;5;34m32\u001b[0m, \u001b[38;5;34m500\u001b[0m, \u001b[38;5;34m128\u001b[0m)         │     \u001b[38;5;34m1,280,000\u001b[0m │\n",
       "├─────────────────────────────────┼────────────────────────┼───────────────┤\n",
       "│ simple_rnn (\u001b[38;5;33mSimpleRNN\u001b[0m)          │ (\u001b[38;5;34m32\u001b[0m, \u001b[38;5;34m128\u001b[0m)              │        \u001b[38;5;34m32,896\u001b[0m │\n",
       "├─────────────────────────────────┼────────────────────────┼───────────────┤\n",
       "│ dense (\u001b[38;5;33mDense\u001b[0m)                   │ (\u001b[38;5;34m32\u001b[0m, \u001b[38;5;34m1\u001b[0m)                │           \u001b[38;5;34m129\u001b[0m │\n",
       "└─────────────────────────────────┴────────────────────────┴───────────────┘\n"
      ]
     },
     "metadata": {},
     "output_type": "display_data"
    },
    {
     "data": {
      "text/html": [
       "<pre style=\"white-space:pre;overflow-x:auto;line-height:normal;font-family:Menlo,'DejaVu Sans Mono',consolas,'Courier New',monospace\"><span style=\"font-weight: bold\"> Total params: </span><span style=\"color: #00af00; text-decoration-color: #00af00\">1,313,027</span> (5.01 MB)\n",
       "</pre>\n"
      ],
      "text/plain": [
       "\u001b[1m Total params: \u001b[0m\u001b[38;5;34m1,313,027\u001b[0m (5.01 MB)\n"
      ]
     },
     "metadata": {},
     "output_type": "display_data"
    },
    {
     "data": {
      "text/html": [
       "<pre style=\"white-space:pre;overflow-x:auto;line-height:normal;font-family:Menlo,'DejaVu Sans Mono',consolas,'Courier New',monospace\"><span style=\"font-weight: bold\"> Trainable params: </span><span style=\"color: #00af00; text-decoration-color: #00af00\">1,313,025</span> (5.01 MB)\n",
       "</pre>\n"
      ],
      "text/plain": [
       "\u001b[1m Trainable params: \u001b[0m\u001b[38;5;34m1,313,025\u001b[0m (5.01 MB)\n"
      ]
     },
     "metadata": {},
     "output_type": "display_data"
    },
    {
     "data": {
      "text/html": [
       "<pre style=\"white-space:pre;overflow-x:auto;line-height:normal;font-family:Menlo,'DejaVu Sans Mono',consolas,'Courier New',monospace\"><span style=\"font-weight: bold\"> Non-trainable params: </span><span style=\"color: #00af00; text-decoration-color: #00af00\">0</span> (0.00 B)\n",
       "</pre>\n"
      ],
      "text/plain": [
       "\u001b[1m Non-trainable params: \u001b[0m\u001b[38;5;34m0\u001b[0m (0.00 B)\n"
      ]
     },
     "metadata": {},
     "output_type": "display_data"
    },
    {
     "data": {
      "text/html": [
       "<pre style=\"white-space:pre;overflow-x:auto;line-height:normal;font-family:Menlo,'DejaVu Sans Mono',consolas,'Courier New',monospace\"><span style=\"font-weight: bold\"> Optimizer params: </span><span style=\"color: #00af00; text-decoration-color: #00af00\">2</span> (12.00 B)\n",
       "</pre>\n"
      ],
      "text/plain": [
       "\u001b[1m Optimizer params: \u001b[0m\u001b[38;5;34m2\u001b[0m (12.00 B)\n"
      ]
     },
     "metadata": {},
     "output_type": "display_data"
    }
   ],
   "source": [
    "# Load the pre-trained model with ReLU activation\n",
    "model = load_model('simple_rnn_imdb.h5')\n",
    "model.summary()"
   ]
  },
  {
   "cell_type": "code",
   "execution_count": 4,
   "metadata": {},
   "outputs": [
    {
     "data": {
      "text/plain": [
       "[array([[-0.905423  ,  0.2792479 ,  0.95556   , ...,  0.36274767,\n",
       "          1.0397516 ,  0.9640732 ],\n",
       "        [-0.07067253,  0.02701624,  0.03567936, ...,  0.04364558,\n",
       "          0.00379108,  0.01601018],\n",
       "        [-0.02370971,  0.02552918,  0.00306834, ...,  0.02141067,\n",
       "         -0.00776732, -0.0769683 ],\n",
       "        ...,\n",
       "        [-0.04543649,  0.03282537, -0.01579145, ..., -0.03830345,\n",
       "         -0.00836586,  0.04668413],\n",
       "        [ 0.10540188, -0.09701128,  0.03390254, ...,  0.0949866 ,\n",
       "         -0.09104636, -0.05464688],\n",
       "        [ 0.09076416, -0.04045286,  0.00734075, ...,  0.00455116,\n",
       "         -0.11343273, -0.0538592 ]], dtype=float32),\n",
       " array([[ 0.04219964, -0.04037201,  0.00307857, ...,  0.03818113,\n",
       "          0.15431523,  0.07708543],\n",
       "        [-0.05084581,  0.082723  , -0.0837139 , ..., -0.11201344,\n",
       "          0.09080285,  0.0625689 ],\n",
       "        [-0.01985026,  0.12328134,  0.01131913, ..., -0.09138512,\n",
       "          0.05558501,  0.05510737],\n",
       "        ...,\n",
       "        [ 0.10869442, -0.13212256,  0.14404845, ...,  0.00392147,\n",
       "          0.04642107,  0.10342441],\n",
       "        [-0.09765572, -0.03529713, -0.04218533, ..., -0.01009183,\n",
       "         -0.10455396, -0.05806034],\n",
       "        [-0.14322095,  0.01647216, -0.14070065, ...,  0.10617521,\n",
       "         -0.08768656, -0.15218034]], dtype=float32),\n",
       " array([[-0.01464526, -0.15844914,  0.14895485, ..., -0.01344822,\n",
       "         -0.18839236,  0.08725139],\n",
       "        [ 0.12180524, -0.18347111, -0.0915991 , ...,  0.0174506 ,\n",
       "         -0.011852  ,  0.07255368],\n",
       "        [-0.08388279, -0.06141551, -0.13277258, ...,  0.12846564,\n",
       "         -0.08241371,  0.00527997],\n",
       "        ...,\n",
       "        [ 0.00918594, -0.12945056,  0.16057886, ...,  0.22033009,\n",
       "          0.11509676,  0.05511479],\n",
       "        [ 0.05781566, -0.05201027, -0.09687004, ..., -0.05192298,\n",
       "          0.160508  ,  0.03633852],\n",
       "        [-0.11168645, -0.05714738,  0.11158436, ...,  0.02594339,\n",
       "          0.07614203, -0.04388679]], dtype=float32),\n",
       " array([-3.08807660e-03,  1.86455753e-02,  1.29909366e-02, -1.12890755e-03,\n",
       "         2.15076823e-02,  1.76700894e-02, -1.23331305e-02, -2.31097676e-02,\n",
       "         8.23897030e-03,  2.52398048e-02, -1.32310996e-02,  2.88456038e-04,\n",
       "         2.70043779e-02, -2.78140809e-02,  2.38047559e-02,  1.22224400e-02,\n",
       "         1.13603880e-03, -9.25747305e-03, -6.91867387e-03,  2.65212860e-02,\n",
       "        -1.42244166e-02, -2.63195150e-02, -1.03088357e-02,  1.47012575e-02,\n",
       "         3.15627903e-02, -3.85891348e-02,  1.56965964e-02, -2.41963211e-02,\n",
       "         1.97218694e-02,  9.28131305e-03,  6.44830754e-03, -1.56438611e-02,\n",
       "         3.19987871e-02,  3.36329676e-02,  3.95164192e-02,  4.51835152e-03,\n",
       "        -5.03443033e-02, -1.07838959e-02,  1.67972036e-02,  2.06470378e-02,\n",
       "         2.27156654e-02, -5.55141643e-02,  2.21275873e-02, -2.22263355e-02,\n",
       "         1.77857839e-02, -9.29131545e-03,  2.65291743e-02,  2.05725692e-02,\n",
       "        -3.33717489e-03, -9.12341941e-03, -2.13497095e-02,  5.01629990e-03,\n",
       "        -2.25081220e-02, -2.58105434e-02, -1.63691975e-02,  4.82836412e-03,\n",
       "        -3.99337709e-02, -2.89265588e-02, -1.52942957e-02, -3.99736166e-02,\n",
       "         2.23894008e-02,  2.23879442e-02, -9.25172772e-03,  2.24680528e-02,\n",
       "         3.27575430e-02,  1.95243414e-02,  1.74952447e-02,  1.87518299e-02,\n",
       "         1.90698300e-02,  1.11595262e-02,  1.87017117e-02,  2.43275203e-02,\n",
       "         2.57051177e-02,  8.80245399e-03,  8.54958221e-03,  2.28959974e-02,\n",
       "         2.22071130e-02,  2.46793143e-02, -1.24602225e-02, -2.46194545e-02,\n",
       "        -1.89747196e-02, -1.61877777e-02, -2.12645810e-02, -4.72741155e-03,\n",
       "        -2.19494496e-02,  1.25027820e-02,  1.15739545e-02,  1.41052995e-02,\n",
       "         1.86315551e-02, -9.21961106e-03, -1.57190040e-02, -5.37983561e-03,\n",
       "         1.63624883e-02, -8.99453834e-03, -1.62379481e-02, -1.46895554e-02,\n",
       "        -5.11700127e-05, -4.15177923e-03,  9.93196480e-03, -1.51848048e-02,\n",
       "         4.11379524e-02, -1.33732976e-02,  1.96919031e-02, -1.89711538e-03,\n",
       "         4.33411216e-03, -2.80626100e-02,  1.18393693e-02,  6.80868141e-03,\n",
       "        -3.66124175e-02, -3.83228227e-03,  1.74337532e-03, -1.68659668e-02,\n",
       "         1.10441260e-02, -2.28042528e-02,  3.38496119e-02, -2.03517564e-02,\n",
       "         2.18836479e-02,  1.41500169e-03, -1.93122290e-02,  2.95154564e-02,\n",
       "         2.22205091e-02, -1.51800765e-02,  1.69604104e-02, -7.53378123e-03,\n",
       "         8.42300477e-04, -1.58469472e-02,  9.36116558e-04,  2.14887988e-02],\n",
       "       dtype=float32),\n",
       " array([[-1.72652811e-01],\n",
       "        [-1.42566055e-01],\n",
       "        [ 2.30447173e-01],\n",
       "        [ 5.47276922e-02],\n",
       "        [-2.28111044e-01],\n",
       "        [-8.88486877e-02],\n",
       "        [ 4.68650609e-02],\n",
       "        [-4.98328246e-02],\n",
       "        [-1.83015466e-02],\n",
       "        [-1.63547218e-01],\n",
       "        [ 1.47305191e-01],\n",
       "        [-5.91643713e-02],\n",
       "        [ 1.01217851e-01],\n",
       "        [ 9.17171538e-02],\n",
       "        [-1.27971426e-01],\n",
       "        [-8.94634277e-02],\n",
       "        [ 2.16352031e-01],\n",
       "        [ 1.90725148e-01],\n",
       "        [ 1.70156866e-01],\n",
       "        [-7.25059733e-02],\n",
       "        [ 6.59439042e-02],\n",
       "        [-4.53983039e-01],\n",
       "        [-1.42827421e-01],\n",
       "        [ 1.86362043e-01],\n",
       "        [ 3.19987386e-02],\n",
       "        [ 1.77376550e-02],\n",
       "        [ 1.43100679e-01],\n",
       "        [ 1.08147800e-01],\n",
       "        [-7.94024020e-02],\n",
       "        [-1.71494186e-01],\n",
       "        [-2.23375127e-01],\n",
       "        [ 1.26551405e-01],\n",
       "        [ 7.22021163e-02],\n",
       "        [ 2.04978153e-01],\n",
       "        [ 1.19933516e-01],\n",
       "        [ 1.83798030e-01],\n",
       "        [ 1.94333327e+00],\n",
       "        [-2.91236669e-01],\n",
       "        [ 1.16932802e-02],\n",
       "        [-1.35311082e-01],\n",
       "        [-1.28196895e-01],\n",
       "        [ 1.43961698e-01],\n",
       "        [-1.92364618e-01],\n",
       "        [ 2.04567879e-01],\n",
       "        [-8.21335986e-02],\n",
       "        [ 1.89229786e-01],\n",
       "        [ 5.30345812e-02],\n",
       "        [ 2.05184609e-01],\n",
       "        [ 5.08842587e-01],\n",
       "        [-4.00331952e-02],\n",
       "        [ 1.13422222e-01],\n",
       "        [ 2.41542868e-02],\n",
       "        [-2.23851487e-01],\n",
       "        [ 1.12035118e-01],\n",
       "        [ 4.45810221e-02],\n",
       "        [ 1.43355563e-01],\n",
       "        [-1.29238397e-01],\n",
       "        [ 2.61763722e-01],\n",
       "        [-4.38081101e-02],\n",
       "        [-6.22710735e-02],\n",
       "        [ 1.15624838e-01],\n",
       "        [-1.91897169e-01],\n",
       "        [-9.96462926e-02],\n",
       "        [ 1.30157601e-02],\n",
       "        [ 1.03773056e-02],\n",
       "        [ 5.86621352e-02],\n",
       "        [ 1.82340503e-01],\n",
       "        [-6.60036691e-03],\n",
       "        [-2.18205780e-01],\n",
       "        [-1.64899528e-01],\n",
       "        [ 1.52586564e-01],\n",
       "        [ 2.04162583e-01],\n",
       "        [-2.66873330e-01],\n",
       "        [ 2.24813685e-01],\n",
       "        [-1.93532497e-01],\n",
       "        [ 2.23716676e-01],\n",
       "        [-1.86929002e-01],\n",
       "        [-2.25984305e-01],\n",
       "        [ 6.68660505e-03],\n",
       "        [-4.61509787e-02],\n",
       "        [ 8.73579979e-02],\n",
       "        [ 2.00590774e-01],\n",
       "        [ 1.16718292e-01],\n",
       "        [-6.87907636e-02],\n",
       "        [ 9.37628984e-01],\n",
       "        [ 1.26990795e-01],\n",
       "        [-3.82597074e-02],\n",
       "        [-1.87085554e-01],\n",
       "        [-2.07572758e-01],\n",
       "        [ 1.58216640e-01],\n",
       "        [ 1.17318556e-01],\n",
       "        [ 2.03390509e-01],\n",
       "        [-9.86959785e-02],\n",
       "        [-1.34130955e-01],\n",
       "        [ 5.48519602e-04],\n",
       "        [-2.22797710e-02],\n",
       "        [-9.30858850e-02],\n",
       "        [ 1.19669698e-01],\n",
       "        [-1.35812342e-01],\n",
       "        [ 5.28549105e-02],\n",
       "        [ 2.88515121e-01],\n",
       "        [-1.05125248e-01],\n",
       "        [ 5.56389764e-02],\n",
       "        [-1.59218490e-01],\n",
       "        [ 2.07372680e-01],\n",
       "        [ 1.19752929e-01],\n",
       "        [-3.46147805e-01],\n",
       "        [ 1.59017473e-01],\n",
       "        [-2.27019644e+00],\n",
       "        [-1.03950745e-03],\n",
       "        [-1.52459383e-01],\n",
       "        [-1.41295746e-01],\n",
       "        [ 6.13760114e-01],\n",
       "        [ 2.03264713e-01],\n",
       "        [ 1.78553879e-01],\n",
       "        [ 9.35706310e-03],\n",
       "        [-2.19243556e-01],\n",
       "        [-4.64300551e-02],\n",
       "        [-4.78309654e-02],\n",
       "        [-1.42263472e-01],\n",
       "        [-4.97828498e-02],\n",
       "        [ 2.04468042e-01],\n",
       "        [ 1.53162152e-01],\n",
       "        [-1.33334756e-01],\n",
       "        [-2.56683622e-02],\n",
       "        [ 1.29656628e-01],\n",
       "        [ 6.72027051e-01],\n",
       "        [ 1.67223979e-02]], dtype=float32),\n",
       " array([1.1009153], dtype=float32)]"
      ]
     },
     "execution_count": 4,
     "metadata": {},
     "output_type": "execute_result"
    }
   ],
   "source": [
    "model.get_weights()"
   ]
  },
  {
   "cell_type": "code",
   "execution_count": 5,
   "metadata": {},
   "outputs": [],
   "source": [
    "# Step 2: Helper Functions\n",
    "# Function to decode reviews\n",
    "def decode_review(encoded_review):\n",
    "    return ' '.join([reverse_word_index.get(i - 3, '?') for i in encoded_review])\n",
    "\n",
    "# Function to preprocess user input\n",
    "def preprocess_text(text):\n",
    "    words = text.lower().split()\n",
    "    encoded_review = [word_index.get(word, 2) + 3 for word in words]\n",
    "    padded_review = sequence.pad_sequences([encoded_review], maxlen=500)\n",
    "    return padded_review"
   ]
  },
  {
   "cell_type": "code",
   "execution_count": 6,
   "metadata": {},
   "outputs": [],
   "source": [
    "### Prediction  function\n",
    "\n",
    "def predict_sentiment(review):\n",
    "    preprocessed_input=preprocess_text(review)\n",
    "\n",
    "    prediction=model.predict(preprocessed_input)\n",
    "\n",
    "    sentiment = 'Positive' if prediction[0][0] > 0.5 else 'Negative'\n",
    "    \n",
    "    return sentiment, prediction[0][0]\n",
    "\n"
   ]
  },
  {
   "cell_type": "code",
   "execution_count": 10,
   "metadata": {},
   "outputs": [
    {
     "name": "stdout",
     "output_type": "stream",
     "text": [
      "\u001b[1m1/1\u001b[0m \u001b[32m━━━━━━━━━━━━━━━━━━━━\u001b[0m\u001b[37m\u001b[0m \u001b[1m0s\u001b[0m 27ms/step\n",
      "Review: This movie was fantastic! The acting was great and the plot was thrilling.\n",
      "Sentiment: Positive\n",
      "Prediction Score: 0.6744669675827026\n"
     ]
    }
   ],
   "source": [
    "# Step 4: User Input and Prediction\n",
    "# Example review for prediction\n",
    "example_review = \"This movie was fantastic! The acting was great and the plot was thrilling.\"\n",
    "\n",
    "sentiment,score=predict_sentiment(example_review)\n",
    "\n",
    "print(f'Review: {example_review}')\n",
    "print(f'Sentiment: {sentiment}')\n",
    "print(f'Prediction Score: {score}')"
   ]
  },
  {
   "cell_type": "code",
   "execution_count": null,
   "metadata": {},
   "outputs": [],
   "source": []
  },
  {
   "cell_type": "code",
   "execution_count": null,
   "metadata": {},
   "outputs": [],
   "source": []
  },
  {
   "cell_type": "code",
   "execution_count": null,
   "metadata": {},
   "outputs": [],
   "source": []
  },
  {
   "cell_type": "code",
   "execution_count": null,
   "metadata": {},
   "outputs": [],
   "source": []
  }
 ],
 "metadata": {
  "kernelspec": {
   "display_name": "venv",
   "language": "python",
   "name": "python3"
  },
  "language_info": {
   "codemirror_mode": {
    "name": "ipython",
    "version": 3
   },
   "file_extension": ".py",
   "mimetype": "text/x-python",
   "name": "python",
   "nbconvert_exporter": "python",
   "pygments_lexer": "ipython3",
   "version": "3.11.3"
  }
 },
 "nbformat": 4,
 "nbformat_minor": 2
}
